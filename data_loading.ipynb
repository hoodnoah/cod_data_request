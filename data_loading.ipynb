{
 "cells": [
  {
   "cell_type": "code",
   "execution_count": 1,
   "id": "18c7f3d4",
   "metadata": {},
   "outputs": [],
   "source": [
    "from pathlib import Path\n",
    "from lib.Blops6Checkpoint import BlackOps6CampaignCheckpoint"
   ]
  },
  {
   "cell_type": "code",
   "execution_count": 2,
   "id": "eb16e29c",
   "metadata": {},
   "outputs": [],
   "source": [
    "checkpoints = BlackOps6CampaignCheckpoint.from_html(Path(\"./data/d13fledermaus_account_data.html\"))"
   ]
  },
  {
   "cell_type": "code",
   "execution_count": 3,
   "id": "8fb41487",
   "metadata": {},
   "outputs": [
    {
     "data": {
      "text/plain": [
       "BlackOps6CampaignCheckpoint(Timestamp=datetime.datetime(2024, 11, 1, 23, 47, 13, tzinfo=datetime.timezone.utc), AccountType='Xbox Live', DeviceType='pc', Difficulty='Veteran', LevelName='Checkmate: Black Sea', Checkpoint='Mission End', CheckpointDuration=259.0, Deaths=0, Fails=0)"
      ]
     },
     "execution_count": 3,
     "metadata": {},
     "output_type": "execute_result"
    }
   ],
   "source": [
    "checkpoints[0]"
   ]
  },
  {
   "cell_type": "code",
   "execution_count": null,
   "id": "a79b87a8",
   "metadata": {},
   "outputs": [],
   "source": []
  }
 ],
 "metadata": {
  "kernelspec": {
   "display_name": ".venv",
   "language": "python",
   "name": "python3"
  },
  "language_info": {
   "codemirror_mode": {
    "name": "ipython",
    "version": 3
   },
   "file_extension": ".py",
   "mimetype": "text/x-python",
   "name": "python",
   "nbconvert_exporter": "python",
   "pygments_lexer": "ipython3",
   "version": "3.12.10"
  }
 },
 "nbformat": 4,
 "nbformat_minor": 5
}
